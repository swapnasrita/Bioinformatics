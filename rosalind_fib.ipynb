{
 "cells": [
  {
   "cell_type": "code",
   "execution_count": 28,
   "metadata": {},
   "outputs": [
    {
     "name": "stdout",
     "output_type": "stream",
     "text": [
      "[1] \"31\"\n",
      "[1] 715827883\n"
     ]
    }
   ],
   "source": [
    "s <- readLines('rosalind_fib.txt')\n",
    "print(strsplit(s, ' ')[[1]][1])\n",
    "n <- as.numeric(strsplit(s, ' ')[[1]][1])\n",
    "k <- as.numeric(strsplit(s, ' ')[[1]][2])\n",
    "\n",
    "f_immature <- 0\n",
    "f_mature <- 0\n",
    "f_baby <- 1\n",
    "\n",
    "for (x in 2:n){\n",
    "    f_mature <- f_immature + f_mature\n",
    "    f_immature <- f_baby\n",
    "    f_baby <- f_mature * k\n",
    "    \n",
    "    f = f_mature+f_immature+f_baby\n",
    "   \n",
    "    \n",
    "}\n",
    " print(f)"
   ]
  },
  {
   "cell_type": "code",
   "execution_count": null,
   "metadata": {},
   "outputs": [],
   "source": []
  }
 ],
 "metadata": {
  "kernelspec": {
   "display_name": "R",
   "language": "R",
   "name": "ir"
  },
  "language_info": {
   "codemirror_mode": "r",
   "file_extension": ".r",
   "mimetype": "text/x-r-source",
   "name": "R",
   "pygments_lexer": "r",
   "version": "3.6.1"
  }
 },
 "nbformat": 4,
 "nbformat_minor": 4
}
