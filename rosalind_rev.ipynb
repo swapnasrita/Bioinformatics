{
 "cells": [
  {
   "cell_type": "code",
   "execution_count": 7,
   "id": "c75cfbe6",
   "metadata": {},
   "outputs": [
    {
     "name": "stdout",
     "output_type": "stream",
     "text": [
      "  [1] \"G\" \"G\" \"C\" \"T\" \"A\" \"C\" \"G\" \"A\" \"T\" \"G\" \"A\" \"T\" \"T\" \"C\" \"T\" \"A\" \"C\" \"C\"\n",
      " [19] \"T\" \"G\" \"G\" \"T\" \"T\" \"T\" \"C\" \"A\" \"A\" \"C\" \"G\" \"G\" \"A\" \"G\" \"G\" \"G\" \"G\" \"C\"\n",
      " [37] \"A\" \"G\" \"G\" \"G\" \"A\" \"A\" \"T\" \"G\" \"A\" \"C\" \"C\" \"A\" \"T\" \"A\" \"A\" \"G\" \"T\" \"G\"\n",
      " [55] \"T\" \"C\" \"G\" \"T\" \"A\" \"A\" \"G\" \"T\" \"A\" \"C\" \"T\" \"A\" \"G\" \"C\" \"C\" \"G\" \"G\" \"T\"\n",
      " [73] \"A\" \"C\" \"C\" \"C\" \"A\" \"G\" \"A\" \"A\" \"G\" \"A\" \"G\" \"A\" \"G\" \"C\" \"G\" \"A\" \"A\" \"G\"\n",
      " [91] \"G\" \"C\" \"A\" \"C\" \"A\" \"A\" \"G\" \"T\" \"A\" \"T\" \"A\" \"C\" \"T\" \"A\" \"A\" \"G\" \"A\" \"T\"\n",
      "[109] \"G\" \"G\" \"A\" \"C\" \"C\" \"T\" \"T\" \"T\" \"C\" \"A\" \"A\" \"A\" \"T\" \"A\" \"A\" \"A\" \"T\" \"T\"\n",
      "[127] \"A\" \"G\" \"T\" \"G\" \"T\" \"T\" \"C\" \"A\" \"C\" \"A\" \"T\" \"A\" \"T\" \"C\" \"T\" \"T\" \"G\" \"A\"\n",
      "[145] \"A\" \"C\" \"T\" \"G\" \"G\" \"G\" \"C\" \"G\" \"T\" \"G\" \"C\" \"C\" \"C\" \"A\" \"G\" \"T\" \"T\" \"A\"\n",
      "[163] \"A\" \"C\" \"A\" \"G\" \"G\" \"C\" \"T\" \"A\" \"C\" \"T\" \"T\" \"T\" \"T\" \"C\" \"G\" \"G\" \"C\" \"C\"\n",
      "[181] \"T\" \"C\" \"A\" \"C\" \"A\" \"G\" \"A\" \"A\" \"A\" \"C\" \"T\" \"A\" \"C\" \"T\" \"T\" \"G\" \"G\" \"C\"\n",
      "[199] \"C\" \"C\" \"T\" \"A\" \"T\" \"C\" \"G\" \"T\" \"G\" \"A\" \"T\" \"G\" \"G\" \"C\" \"A\" \"T\" \"G\" \"T\"\n",
      "[217] \"A\" \"G\" \"A\" \"T\" \"A\" \"A\" \"G\" \"G\" \"G\" \"A\" \"G\" \"A\" \"C\" \"G\" \"C\" \"C\" \"A\" \"A\"\n",
      "[235] \"A\" \"G\" \"T\" \"C\" \"C\" \"C\" \"A\" \"C\" \"A\" \"C\" \"C\" \"A\" \"A\" \"A\" \"T\" \"G\" \"C\" \"A\"\n",
      "[253] \"C\" \"T\" \"A\" \"T\" \"C\" \"G\" \"C\" \"C\" \"T\" \"A\" \"A\" \"C\" \"G\" \"G\" \"G\" \"C\" \"T\" \"T\"\n",
      "[271] \"G\" \"T\" \"G\" \"T\" \"T\" \"C\" \"A\" \"G\" \"T\" \"G\" \"G\" \"G\" \"G\" \"C\" \"C\" \"A\" \"A\" \"C\"\n",
      "[289] \"T\" \"T\" \"C\" \"T\" \"C\" \"G\" \"T\" \"G\" \"T\" \"A\" \"T\" \"G\" \"G\" \"C\" \"C\" \"G\" \"A\" \"T\"\n",
      "[307] \"C\" \"A\" \"T\" \"T\" \"A\" \"C\" \"T\" \"C\" \"G\" \"T\" \"A\" \"T\" \"G\" \"T\" \"G\" \"A\" \"T\" \"G\"\n",
      "[325] \"T\" \"C\" \"A\" \"C\" \"T\" \"G\" \"T\" \"G\" \"T\" \"A\" \"G\" \"G\" \"C\" \"C\" \"A\" \"T\" \"C\" \"C\"\n",
      "[343] \"T\" \"C\" \"T\" \"G\" \"C\" \"A\" \"C\" \"T\" \"T\" \"C\" \"C\" \"G\" \"A\" \"G\" \"T\" \"C\" \"C\" \"T\"\n",
      "[361] \"G\" \"G\" \"G\" \"G\" \"G\" \"A\" \"T\" \"T\" \"T\" \"C\" \"T\" \"G\" \"G\" \"C\" \"A\" \"G\" \"G\" \"T\"\n",
      "[379] \"C\" \"A\" \"G\" \"C\" \"A\" \"C\" \"C\" \"A\" \"T\" \"A\" \"A\" \"C\" \"G\" \"G\" \"T\" \"A\" \"G\" \"G\"\n",
      "[397] \"A\" \"A\" \"G\" \"T\" \"G\" \"C\" \"A\" \"A\" \"C\" \"T\" \"A\" \"C\" \"T\" \"A\" \"G\" \"C\" \"G\" \"T\"\n",
      "[415] \"A\" \"G\" \"A\" \"G\" \"G\" \"T\" \"G\" \"G\" \"A\" \"T\" \"G\" \"C\" \"G\" \"T\" \"C\" \"C\" \"T\" \"C\"\n",
      "[433] \"G\" \"T\" \"A\" \"T\" \"T\" \"G\" \"G\" \"T\" \"C\" \"C\" \"T\" \"G\" \"T\" \"G\" \"A\" \"G\" \"T\" \"G\"\n",
      "[451] \"A\" \"A\" \"A\" \"G\" \"G\" \"A\" \"C\" \"A\" \"A\" \"T\" \"T\" \"T\" \"C\" \"C\" \"G\" \"A\" \"T\" \"C\"\n",
      "[469] \"G\" \"G\" \"T\" \"C\" \"T\" \"C\" \"G\" \"C\" \"T\" \"C\" \"G\" \"T\" \"T\" \"G\" \"C\" \"G\" \"C\" \"A\"\n",
      "[487] \"A\" \"A\" \"A\" \"G\" \"C\" \"G\" \"A\" \"G\" \"G\" \"T\" \"G\" \"G\" \"C\" \"C\" \"A\" \"A\" \"A\" \"G\"\n",
      "[505] \"C\" \"G\" \"T\" \"G\" \"A\" \"G\" \"G\" \"A\" \"G\" \"T\" \"T\" \"A\" \"C\" \"T\" \"C\" \"T\" \"C\" \"A\"\n",
      "[523] \"G\" \"C\" \"C\" \"A\" \"A\" \"C\" \"A\" \"C\" \"C\" \"G\" \"A\" \"A\" \"G\" \"T\" \"G\" \"A\" \"T\" \"G\"\n",
      "[541] \"C\" \"T\" \"G\" \"C\" \"C\" \"T\" \"G\" \"C\" \"T\" \"A\" \"T\" \"T\" \"T\" \"G\" \"G\" \"T\" \"T\" \"G\"\n",
      "[559] \"A\" \"T\" \"A\" \"A\" \"T\" \"C\" \"C\" \"C\" \"A\" \"T\" \"C\" \"A\" \"C\" \"T\" \"A\" \"C\" \"A\" \"T\"\n",
      "[577] \"A\" \"T\" \"C\" \"C\" \"T\" \"G\" \"A\" \"G\" \"G\" \"C\" \"A\" \"G\" \"G\" \"G\" \"C\" \"A\" \"A\" \"T\"\n",
      "[595] \"G\" \"A\" \"C\" \"G\" \"C\" \"T\" \"A\" \"A\" \"C\" \"G\" \"G\" \"A\" \"G\" \"C\" \"G\" \"A\" \"G\" \"T\"\n",
      "[613] \"T\" \"G\" \"G\" \"G\" \"T\" \"T\" \"C\" \"A\" \"A\" \"C\" \"G\" \"G\" \"C\" \"G\" \"C\" \"A\" \"C\" \"T\"\n",
      "[631] \"T\" \"C\" \"T\" \"C\" \"C\" \"C\" \"A\" \"T\" \"A\" \"A\" \"G\" \"C\" \"G\" \"C\" \"T\" \"A\" \"A\" \"C\"\n",
      "[649] \"A\" \"G\" \"C\" \"G\" \"G\" \"C\" \"T\" \"C\" \"C\" \"G\" \"G\" \"G\" \"T\" \"T\" \"G\" \"C\" \"A\" \"A\"\n",
      "[667] \"G\" \"C\" \"C\" \"G\" \"C\" \"A\" \"C\" \"T\" \"G\" \"T\" \"A\" \"C\" \"T\" \"C\" \"A\" \"C\" \"C\" \"T\"\n",
      "[685] \"G\" \"C\" \"C\" \"T\" \"A\" \"G\" \"G\" \"T\" \"A\" \"T\" \"A\" \"A\" \"A\" \"C\" \"T\" \"A\" \"C\" \"C\"\n",
      "[703] \"T\" \"C\" \"C\" \"A\" \"C\" \"C\" \"C\" \"G\" \"C\" \"T\" \"A\" \"A\" \"C\" \"A\" \"C\" \"G\" \"C\" \"C\"\n",
      "[721] \"T\" \"T\" \"A\" \"T\" \"C\" \"G\" \"A\" \"T\" \"T\" \"A\" \"G\" \"G\" \"C\" \"G\" \"C\" \"G\" \"T\" \"G\"\n",
      "[739] \"A\" \"A\" \"G\" \"A\" \"C\" \"T\" \"C\" \"G\" \"T\" \"C\" \"T\" \"T\" \"T\" \"C\" \"C\" \"G\" \"A\" \"G\"\n",
      "[757] \"G\" \"C\" \"A\" \"C\" \"G\" \"G\" \"C\" \"C\" \"T\" \"G\" \"A\" \"A\" \"C\" \"C\" \"T\" \"A\" \"C\" \"G\"\n",
      "[775] \"G\" \"T\" \"A\" \"C\" \"G\" \"G\" \"T\" \"A\" \"A\" \"A\" \"G\" \"A\" \"G\" \"G\" \"G\" \"G\" \"G\" \"C\"\n",
      "[793] \"T\" \"G\" \"T\" \"C\" \"T\" \"G\" \"A\" \"G\" \"A\" \"C\" \"C\" \"G\" \"A\" \"T\" \"G\" \"C\" \"T\" \"T\"\n",
      "[811] \"A\" \"T\" \"C\" \"G\" \"G\" \"T\" \"G\" \"C\" \"A\" \"T\" \"G\" \"T\" \"G\" \"T\" \"A\" \"C\" \"A\" \"T\"\n",
      "[829] \"A\" \"T\" \"T\" \"G\" \"A\" \"C\" \"C\" \"T\" \"T\" \"G\" \"C\" \"C\" \"T\" \"A\" \"A\" \"G\" \"T\" \"T\"\n",
      "[847] \"C\" \"A\" \"A\" \"G\" \"C\" \"T\" \"A\" \"C\" \"A\" \"C\" \"C\" \"A\" \"A\" \"G\" \"C\" \"A\" \"C\" \"A\"\n",
      "[865] \"T\" \"C\" \"A\" \"C\" \"A\" \"A\" \"C\" \"C\" \"C\" \"T\" \"A\" \"A\" \"C\" \"C\" \"C\" \"T\" \"A\" \"T\"\n",
      "[883] \"C\" \"A\" \"A\" \"G\" \"G\" \"G\" \"G\" \"A\" \"A\" \"A\" \"A\" \"G\" \"C\" \"T\" \"G\" \"A\" \"T\" \"A\"\n",
      "[901] \"T\" \"A\" \"T\" \"G\" \"T\" \"G\" \"A\" \"A\" \"T\" \"G\" \"G\" \"C\"\n",
      "[1] \"CCGATGCTACTAAGATGGACCAAAGTTGCCTCCCCGTCCCTTACTGGTATTCACAGCATTCATGATCGGCCATGGGTCTTCTCTCGCTTCCGTGTTCATATGATTCTACCTGGAAAGTTTATTTAATCACAAGTGTATAGAACTTGACCCGCACGGGTCAATTGTCCGATGAAAAGCCGGAGTGTCTTTGATGAACCGGGATAGCACTACCGTACATCTATTCCCTCTGCGGTTTCAGGGTGTGGTTTACGTGATAGCGGATTGCCCGAACACAAGTCACCCCGGTTGAAGAGCACATACCGGCTAGTAATGAGCATACACTACAGTGACACATCCGGTAGGAGACGTGAAGGCTCAGGACCCCCTAAAGACCGTCCAGTCGTGGTATTGCCATCCTTCACGTTGATGATCGCATCTCCACCTACGCAGGAGCATAACCAGGACACTCACTTTCCTGTTAAAGGCTAGCCAGAGCGAGCAACGCGTTTTCGCTCCACCGGTTTCGCACTCCTCAATGAGAGTCGGTTGTGGCTTCACTACGACGGACGATAAACCAACTATTAGGGTAGTGATGTATAGGACTCCGTCCCGTTACTGCGATTGCCTCGCTCAACCCAAGTTGCCGCGTGAAGAGGGTATTCGCGATTGTCGCCGAGGCCCAACGTTCGGCGTGACATGAGTGGACGGATCCATATTTGATGGAGGTGGGCGATTGTGCGGAATAGCTAATCCGCGCACTTCTGAGCAGAAAGGCTCCGTGCCGGACTTGGATGCCATGCCATTTCTCCCCCGACAGACTCTGGCTACGAATAGCCACGTACACATGTATAACTGGAACGGATTCAAGTTCGATGTGGTTCGTGTAGTGTTGGGATTGGGATAGTTCCCCTTTTCGACTATATACACTTACCG\"\n"
     ]
    }
   ],
   "source": [
    "s <- readLines('rosalind_revc.txt')\n",
    "s<-rev(strsplit(s, NULL)[[1]])\n",
    "print(s)\n",
    "s <- chartr('ATGC','TACG', paste(s, collapse=\"\"))\n",
    "\n",
    "print(s)"
   ]
  },
  {
   "cell_type": "code",
   "execution_count": null,
   "id": "c7e10ce1",
   "metadata": {},
   "outputs": [],
   "source": []
  },
  {
   "cell_type": "code",
   "execution_count": null,
   "id": "3b5489b3",
   "metadata": {},
   "outputs": [],
   "source": []
  },
  {
   "cell_type": "code",
   "execution_count": null,
   "id": "bc397f43",
   "metadata": {},
   "outputs": [],
   "source": []
  },
  {
   "cell_type": "code",
   "execution_count": null,
   "id": "5b32dc26",
   "metadata": {},
   "outputs": [],
   "source": []
  },
  {
   "cell_type": "code",
   "execution_count": null,
   "id": "6a32d307",
   "metadata": {},
   "outputs": [],
   "source": []
  }
 ],
 "metadata": {
  "kernelspec": {
   "display_name": "R",
   "language": "R",
   "name": "ir"
  },
  "language_info": {
   "codemirror_mode": "r",
   "file_extension": ".r",
   "mimetype": "text/x-r-source",
   "name": "R",
   "pygments_lexer": "r",
   "version": "3.6.1"
  }
 },
 "nbformat": 4,
 "nbformat_minor": 5
}
