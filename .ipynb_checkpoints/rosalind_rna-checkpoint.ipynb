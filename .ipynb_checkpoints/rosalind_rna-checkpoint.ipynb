{
 "cells": [
  {
   "cell_type": "code",
   "execution_count": 4,
   "id": "4b7d4f5f",
   "metadata": {},
   "outputs": [
    {
     "name": "stderr",
     "output_type": "stream",
     "text": [
      "Warning message in file(con, \"r\"):\n",
      "\"cannot open file 'rosalind_rna.txt': No such file or directory\""
     ]
    },
    {
     "ename": "ERROR",
     "evalue": "Error in file(con, \"r\"): cannot open the connection\n",
     "output_type": "error",
     "traceback": [
      "Error in file(con, \"r\"): cannot open the connection\nTraceback:\n",
      "1. readLines(\"rosalind_rna.txt\")",
      "2. file(con, \"r\")"
     ]
    }
   ],
   "source": [
    "s <- readLines('rosalind_rna.txt')"
   ]
  },
  {
   "cell_type": "code",
   "execution_count": null,
   "id": "736d173b",
   "metadata": {},
   "outputs": [],
   "source": []
  }
 ],
 "metadata": {
  "kernelspec": {
   "display_name": "R",
   "language": "R",
   "name": "ir"
  },
  "language_info": {
   "codemirror_mode": "r",
   "file_extension": ".r",
   "mimetype": "text/x-r-source",
   "name": "R",
   "pygments_lexer": "r",
   "version": "3.6.1"
  }
 },
 "nbformat": 4,
 "nbformat_minor": 5
}
