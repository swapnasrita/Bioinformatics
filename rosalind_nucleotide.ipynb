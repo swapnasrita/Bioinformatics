{
 "cells": [
  {
   "cell_type": "code",
   "execution_count": 11,
   "id": "c692ef0a",
   "metadata": {},
   "outputs": [
    {
     "name": "stdout",
     "output_type": "stream",
     "text": [
      "[1] \"ATCCATCCTTTCTACACTATATCCCAGTATGTTAGTCTAAGACCCGACTGCGTATCGATGGCAGGTTGCTATAGGGGTCCGACTCAAGGTCATTTCCAGGGCCCGATGTGACAGTGCACGAGGCTCCGGAATCATACAGCAAAGACCATGTAGTCTAAGACTATTAACTGGAGAATCGACCAGTGAAACCCGTCAGACTTGCCATCCCATCCAGGCCTACTCTATATTAGGGTGAACTTGCCTGACTTTCACCCGTTATCCCCGTTAGGGGACGCTTATAATACAGATTCCCACCACCTCACAAGGCTTCCTAGCCGGTATCTTTCCATCCCTATCGGCACGTAGCGTTCGATCTGCAGAAGGGGCTCATTGCAACCGTCTAGCGCCCCGACATCAACTAGGATATTCAGGATTCGTACTTGGCGTGAAAGTAGTCGTTTACTTACTTTACGGAAAGTGCCTCGCTCCGGAGATTAAGTTAGACATCTGCCGCCGTAAGCCCAGACGATGAGCCAGTGGATAAAGGAACCCTCTTGTCCCACCAGGCTCGAACCCGCGCGTCATAGAAGGAGATATGCTGCGCTATATGACGGCCGAGCAAGCCAATTGAAATGCACAACGGAAGCTCTATTTAAACTTACGTAGACTGGTATAGATGGGTACTGCCCATATTAGTCGCCCGTGAGCGATCTCGCTCGGTAGACACGTGCACGCGAGACAGTTGAGCCGGCTTCTTTCTTCTGCCCAGCCACCCAAGGATCCATCGACGTCTCGGCGTTACATTTCTAATCTTGGGCCTTCATGACGCTCCAGCATGCGCAGATGAATCGTTGTTGACTCGATCCTTCCGCGGAAGCAGCGGAACAAAGCTACATGTTTGATCTGAGGACCTCTGGCAGCCGCGAGAGATGCGTAAAAAAAATAGTGAAGTCCGAACGGACCTCCGGGTTTTCAGTTCAGGGAGACGCTTCGCCCGACCAGTCTCATAAT\"\n"
     ]
    }
   ],
   "source": [
    "file_path <- \"rosalind_dna.txt\"  # Specify the path to your text file\n",
    "s <- readLines(file_path)\n",
    "print(s)"
   ]
  },
  {
   "cell_type": "code",
   "execution_count": 12,
   "id": "799926a0",
   "metadata": {},
   "outputs": [
    {
     "name": "stdout",
     "output_type": "stream",
     "text": [
      "246 272 237 235"
     ]
    }
   ],
   "source": [
    "cat(sum(strsplit(s, NULL)[[1]]=='A'), sum(strsplit(s, NULL)[[1]]=='C'),sum(strsplit(s, NULL)[[1]]=='G'),sum(strsplit(s, NULL)[[1]]=='T'))"
   ]
  },
  {
   "cell_type": "code",
   "execution_count": null,
   "id": "98f8394a",
   "metadata": {},
   "outputs": [],
   "source": []
  }
 ],
 "metadata": {
  "kernelspec": {
   "display_name": "R",
   "language": "R",
   "name": "ir"
  },
  "language_info": {
   "codemirror_mode": "r",
   "file_extension": ".r",
   "mimetype": "text/x-r-source",
   "name": "R",
   "pygments_lexer": "r",
   "version": "3.6.1"
  }
 },
 "nbformat": 4,
 "nbformat_minor": 5
}
