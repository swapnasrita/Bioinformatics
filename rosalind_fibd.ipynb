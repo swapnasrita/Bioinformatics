{
 "cells": [
  {
   "cell_type": "code",
   "execution_count": 15,
   "metadata": {},
   "outputs": [
    {
     "name": "stdout",
     "output_type": "stream",
     "text": [
      "[1] \"93 20\"\n",
      " [1] \"1\"                    \"2\"                    \"3\"                   \n",
      " [4] \"5\"                    \"8\"                    \"13\"                  \n",
      " [7] \"21\"                   \"34\"                   \"55\"                  \n",
      "[10] \"89\"                   \"144\"                  \"233\"                 \n",
      "[13] \"377\"                  \"610\"                  \"987\"                 \n",
      "[16] \"1597\"                 \"2584\"                 \"4181\"                \n",
      "[19] \"6765\"                 \"10945\"                \"17709\"               \n",
      "[22] \"28653\"                \"46360\"                \"75010\"               \n",
      "[25] \"121365\"               \"196367\"               \"317719\"              \n",
      "[28] \"514065\"               \"831750\"               \"1345760\"             \n",
      "[31] \"2177421\"              \"3523037\"              \"5700225\"             \n",
      "[34] \"9222885\"              \"14922500\"             \"24144398\"            \n",
      "[37] \"39065301\"             \"63207115\"             \"102268235\"           \n",
      "[40] \"165468585\"            \"267725875\"            \"433176751\"           \n",
      "[43] \"700873973\"            \"1134004364\"           \"1834803327\"          \n",
      "[46] \"2968686326\"           \"4803293286\"           \"7771661893\"          \n",
      "[49] \"12574441114\"          \"20345271257\"          \"32918366611\"         \n",
      "[52] \"53261460447\"          \"86176304021\"          \"139432064243\"        \n",
      "[55] \"225599145379\"         \"365016287122\"         \"590591288103\"        \n",
      "[58] \"955568509924\"         \"1546096590912\"        \"2501562832601\"       \n",
      "[61] \"4047493954928\"        \"6548789061654\"        \"10595849839831\"      \n",
      "[64] \"17143938027512\"       \"27738653862979\"       \"44880757087164\"      \n",
      "[67] \"72616442263817\"       \"117492396057695\"      \"190101066659619\"     \n",
      "[70] \"307580888276200\"      \"497661609664562\"      \"805209579574151\"     \n",
      "[73] \"1302817927778266\"     \"2107941331048396\"     \"3410619826762419\"    \n",
      "[76] \"5518335558665436\"     \"8928590369140733\"     \"14446335336518066\"   \n",
      "[79] \"23373970137148876\"    \"37818759377076032\"    \"61190227951392304\"   \n",
      "[82] \"99004939834513408\"    \"160188618996844064\"   \"259182962981517632\"  \n",
      "[85] \"419354438040334208\"   \"678509662367988864\"   \"1097819219651235968\" \n",
      "[88] \"1776256265576961024\"  \"2873957992832139264\"  \"4650024157342441472\" \n",
      "[91] \"7523674569286303744\"  \"12173201065019080704\"\n"
     ]
    }
   ],
   "source": [
    "s <- readLines('rosalind_fibd.txt')\n",
    "print(s)\n",
    "\n",
    "# Convert n and d into big integers for arbitrary precision\n",
    "n <- 93#as.numeric(strsplit(s, ' ')[[1]][1])\n",
    "d <- 20#as.numeric(strsplit(s, ' ')[[1]][2])\n",
    "\n",
    "# Use gmp's bigz type for arbitrary precision\n",
    "f_immature <- '0'\n",
    "f_mature <- '0'\n",
    "f_baby <- '1'\n",
    "f <- c('1')\n",
    "b <- c('1')\n",
    "\n",
    "for (x in 2:n) {\n",
    "    \n",
    "    f_mature <- as.numeric(f_immature) + as.numeric(f_mature )\n",
    "    f_immature <- as.numeric(f_baby)\n",
    "    f_baby <- as.numeric(f_mature) \n",
    "    if (x > d) {\n",
    "        f_mature <- f_mature - as.numeric(b[x - d])\n",
    "    }\n",
    "    \n",
    "    f <- append(f, as.character(format(f_mature + f_immature + f_baby, scientific = FALSE)))\n",
    "    b <- append(b, as.character(f_baby))\n",
    "\n",
    "}\n",
    "\n",
    "# Use gmp's as.character() to print large number without scientific notation\n",
    "print(as.character(f[-1]))\n"
   ]
  },
  {
   "cell_type": "code",
   "execution_count": null,
   "metadata": {},
   "outputs": [],
   "source": []
  },
  {
   "cell_type": "code",
   "execution_count": null,
   "metadata": {},
   "outputs": [],
   "source": []
  },
  {
   "cell_type": "code",
   "execution_count": null,
   "metadata": {},
   "outputs": [],
   "source": []
  },
  {
   "cell_type": "code",
   "execution_count": null,
   "metadata": {},
   "outputs": [],
   "source": []
  }
 ],
 "metadata": {
  "kernelspec": {
   "display_name": "R",
   "language": "R",
   "name": "ir"
  },
  "language_info": {
   "codemirror_mode": "r",
   "file_extension": ".r",
   "mimetype": "text/x-r-source",
   "name": "R",
   "pygments_lexer": "r",
   "version": "3.6.1"
  }
 },
 "nbformat": 4,
 "nbformat_minor": 4
}
